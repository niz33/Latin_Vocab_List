{
 "cells": [
  {
   "cell_type": "code",
   "execution_count": 25,
   "metadata": {},
   "outputs": [],
   "source": [
    "from whitakers_words.parser import Parser\n",
    "from whitakers_words.finder import find_infl\n",
    "from whitakers_words.enums import WordType\n",
    "from whitakers_words.parser import Analysis, Word\n",
    "from whitakers_words.util import make_ordinal\n",
    "from whitakers_words.formatter import format_noun\n",
    "\n",
    "parser=Parser()\n",
    "\n",
    "vocab_list = \"abest abit: abiit accidit accipit: accepit accusat actor: actorem ad addidit adest adiuvat administrat adsunt aedificat aeger: aegrum Aegyptius agit fabulam agit gratias agit negotium agit agitat: agitavit agnoscit: agnovit agricola alius alter: alterum amat: amavit ambulat: ambulavit amicissimus amicus amisit amphitheatrum ancilla animal antiquus anulus anxius aper: aprum aperit: aperuit apodyterium apparet: apparuit architectus ardet arena argentaria argentarius argumentum artifex: artificem asinus ater: atrum athleta atrium attonitus auctor: auctorem audacissime audit: audivit aurae auxilium avarus babae! barba barbarus basilica benignus bestia bestiarius bibit: bibit caelum callidus callidior candidatus canis: canem cantat: cantavit capit: cepit consilium capit caudex: caudicem caupo: cauponem caute celat celebrat celeriter quam celerrime cena cenat: cenavit centurio: centurionem cepit cera cervus Christianus cibus cinis: cinerem circumspectat: circumspectavit civis: civem clamat: clamavit clamor: clamorem clausit clausus cogitat rem cogitat cognovit columba commisit commotus complet componit comprehendit confecit rem confecit coniecit consentit consilium consilium capit conspexit consumit: consumpsit contendit: contendit contentio: contentionem contentus controversia convenit convincit coquit: coxit coquus cotidie coxit credit crines: crines cubiculum cucurrit culina cum cupit cur? curat: curavit nihil curo currit: cucurrit custodit dat: dedit fabulam dat de dea debet decem decidit decipit dedit deiecit deinde delectat: delectavit delevit deliciae denarius densissime densus deponit: deposuit descendit desertus desistit desperat destrinxit deus dicit: dixit dictat dies: diem dies natalis: diem natalem difficilis difficultas diligenter discedit: discessit discit discus dissentit diu dives: divitem divisor: divisorem dixit docet: docuit doctus dolet domina dominus donum dormit: dormivit dubium ducit: duxit in matrimonium duxit duo e eam eas ebrius ecce! edit: edidit effugit ego eheu! elegit emisit emit: emit eos epistula eradit: erasit erat erubescit es est estis esurit et euge! eum evanuit evitavit evolavit ex excitavit exclamavit exit expeditus explicavit exspectat exspiravit extraxit fabula fabulam agit fabulam dat facile facit: fecit familia fautor: fautorem favet fecit feles: felem felix: felicem femina ferociter ferox: ferocem ferocissimus fert festinat: festinavit fidelis filia filius finis: finem flamma fluit fortasse fortis fortissimus fortiter forum fractus frater: fratrem fremit: fremuit frustra fugit: fugit fumus funambulus fundus fur: furem furcifer! fustis: fustem gens: gentem gerit gladiator: gladiatorem gladius Graecia Graeculus Graecus gratiae gratias agit graviter gustat: gustavit habet habitat hae haec hanc hausit hercle! heri hic hoc hodie homo: hominem hortus hospes: hospitem huc hunc iacet iam iampridem ianua ibat ibi igitur ignavus illam ille imitator: imitatorem immotus imperium impetus imprimit impune in incendium incidit: incidit incitat induit infans: infantem infelix: infelicem ingens: ingentem inimicus inquit insanus inscriptio: inscriptionem inspicit: inspexit institor: institorem intellegit: intellexit rem intellegit intente interfecit intrat: intravit intro ite! intus invenit invitat: invitavit iratus iste it ita ita vero itaque iter iterum iubet iudex: iudicem iuvenis: iuvenem laborat lacrimat laete laetus lambit lapideus lararium lares latet Latinus latrat: latravit laudat: laudavit lectus legit: legit leo: leonem liber: librum liberalis liberavit liberi libertus lingua locus longe longus lucet luna lupus magnifice magnificus magnus maior mane manet: mansit maritus mater: matrem matrimonium in matrimonium duxit maxime maximus me mecum medius melior mendacissimus mendax: mendacem mensa mercator: mercatorem meus mihi minime! mirabilis miserandus missio: missionem mittit: misit mons: montem morbus moribundus moriturus mors: mortem mortiferus mortuus mox multus multi murmillo: murmillonem murus narravit rem narravit nasus nauta navis: navem necavit negotium negotium agit nemo: neminem nihil nihil curo nimium nisi nobilis nobis non nos noster: nostrum notus notissimus novacula novus nox: noctem nubes: nubem Nucerini nullus num? numerat numquam nunc nuntiat: nuntiavit nuntius nuper obdormivit obstinate occupatus offert olfecit olim omnis optime optimus oratio: orationem ostendit: ostendit otiosus paene palaestra panis: panem parat: paravit paratus parce! parens: parentem paries: parietem parvus pastor: pastorem pater: patrem pauper: pauperem pauperrimus pavo: pavonem pavor: pavorem pax: pacem pecunia per percussit periculosus periculum periit perterritus pervenit pes: pedem pessimus pestis: pestem petit: petivit philosophus pictor: pictorem pictura pingit piscina pistor: pistorem placet plaudit: plausit plenus plurimus poculum poeta pollex: pollicem Pompeianus pons: pontem porta portat: portavit porticus portus post postea postquam postremo postridie postulat: postulavit posuit praemium pretiosus primus probat rem probat probus procedit: processit promisit prope proprius provocavit proximus puella puer: puerum pugna pugnat: pugnavit pulcher: pulchrum pulcherrimus pulsat: pulsavit pȳramis: pȳramidem quadraginta quaerit: quaesivit quam quam celerrime quanti? quid? quietus quindecim quinquaginta quinque quis? quo? quod quoque rapuit recitat: recitavit recumbit: recubuit recusavit reddit rediit res: rem rem cogitat rem confecit rem intellegit rem narravit rem probat respiravit respondet: respondit retiarius retinet revenit rhetor: rhetorem ridet: risit ridiculus rogavit Roma Romanus ruina ruit: ruit sacrificium saepe salit salus: salutem salutat: salutavit salve! sanguis: sanguinem satis scaena scissus scit scribit: scripsit scriptor: scriptorem sculptor: sculptorem scurrilis secat secundus sed sedet sella semirutus semisomnus semper senator: senatorem senex: senem senior sensim sensit sententia serpens: serpentem servat: servavit servus sibi signum silva sine sollicitus solus sonuit sonus sordidus soror: sororem spectaculum spectat: spectavit spectator: spectatorem spina spirat splendidus stat statim statua stella stertit stilus stola stultus stultior stultissimus suaviter subito sum sumus sunt superat: superavit superfuit surgit: surrexit suscipit susurravit suus Syrius taberna tablinum tacet: tacuit tacite tamen tandem tantum te tecum templum tenet terra terret: terruit tertius testis: testem tetigit theatrum thermae tibi timet: timuit timide titulus toga tondet tonsor: tonsorem totus tradit: tradidit trahit: traxit tremor: tremorem tremuit tres triclinium triginta triste tristis tu tuba tum tunica turba turbulentus tutus tuus ubi ubique ululat: ululavit umbra unus urbs: urbem utilis utilissimus uxor: uxorem vagivit valde vale vehementer venabulum venalicius venatio: venationem venator: venatorem vendit venit: venit verberat: verberavit versipellis: versipellem versus vertit vexat via vibrat victor: victorem videt: vidit viginti vilicus villa vinum vir: virum visitat vita vituperat: vituperavit vivit vobis vocat: vocavit vos vulneravit\"\n",
    "\n",
    "vocab_list = vocab_list.replace(\":\",\"\")\n",
    "vocab_list = vocab_list.replace(\"!\",\"\")\n",
    "vocab_list = vocab_list.replace(\"?\",\"\")\n",
    "vocab_list = vocab_list.split(\" \")"
   ]
  },
  {
   "attachments": {},
   "cell_type": "markdown",
   "metadata": {},
   "source": [
    "Parse the list of words and store the result into `result`."
   ]
  },
  {
   "cell_type": "code",
   "execution_count": 60,
   "metadata": {},
   "outputs": [
    {
     "name": "stdout",
     "output_type": "stream",
     "text": [
      "{'pos': <WordType.ADV: 'Adverb'>}\n",
      "{'pos': <WordType.ADJ: 'Adjective'>, 'posit': ['facilis', 'facilis', '-e'], 'comp': ['facilior', '-or', '-us'], 'sup': ['facillimus', '-ma', '-mum']}\n"
     ]
    }
   ],
   "source": [
    "def get_entry(analysis:Analysis):\n",
    "    lexeme = analysis.lexeme\n",
    "    result = {}\n",
    "    result['pos'] = analysis.lexeme.wordType\n",
    "    if result['pos'] == WordType.N:\n",
    "        declension = int(lexeme.category[0])\n",
    "        gender = lexeme.form[0]\n",
    "        nom = find_infl(WordType.N, lexeme.category, [\"NOM\", \"S\", gender])\n",
    "        gen = find_infl(WordType.N, lexeme.category, [\"GEN\", \"S\", gender])\n",
    "        result['parts'] = [f'{lexeme.roots[0]}{nom}',f'{lexeme.roots[1]}{gen}']\n",
    "        result['declesion'] = declension\n",
    "        result['gender'] = gender\n",
    "    if result['pos'] == WordType.V:\n",
    "        conjugation = int(lexeme.category[0])\n",
    "        ind = find_infl(WordType.V, lexeme.category, [\"PRES\", \"ACTIVE\", \"IND\", \"1\", \"S\"])\n",
    "        inf = find_infl(WordType.V, lexeme.category, [\"PRES\", \"ACTIVE\", \"INF\", \"0\", \"X\"])\n",
    "        perf = find_infl(WordType.V, lexeme.category, [\"PERF\", \"ACTIVE\", \"IND\", \"1\", \"S\"])\n",
    "        part = find_infl(WordType.VPAR, lexeme.category, [\"NOM\", \"S\", \"M\", \"PERF\", \"PASSIVE\"])\n",
    "        result['parts'] = [f'{lexeme.roots[0]}{ind}',f'{lexeme.roots[1]}{inf}',f'{lexeme.roots[2]}{perf}',f'{lexeme.roots[3]}{part}']\n",
    "        result['declesion'] = conjugation\n",
    "    if result['pos'] == WordType.ADJ:\n",
    "        posit = [find_infl(WordType.ADJ, lexeme.category, [\"NOM\", \"S\", x, \"POS\"]) for x in [\"M\", \"F\", \"N\"]]\n",
    "        comp = [find_infl(WordType.ADJ, lexeme.category, [\"NOM\", \"S\", x, \"COMP\"]) for x in [\"M\", \"F\", \"N\"]]\n",
    "        sup = [find_infl(WordType.ADJ, lexeme.category, [\"NOM\", \"S\", x, \"SUPER\"]) for x in [\"M\", \"F\", \"N\"]]\n",
    "        result['posit'] = [f'{lexeme.roots[0]}{posit[0]}', f'{lexeme.roots[1]}{posit[1]}', f'-{posit[2]}']\n",
    "        result['comp'] = result['sup'] = []\n",
    "        if len(lexeme.roots) > 2:\n",
    "            result['comp'] = [f'{lexeme.roots[2]}{comp[0]}', f'-{comp[1]}', f'-{comp[2]}']\n",
    "            if len(lexeme.roots) > 3:\n",
    "                result['sup'] = [f'{lexeme.roots[3]}{sup[0]}', f'-{sup[1]}', f'-{sup[2]}']\n",
    "    return result\n",
    "\n",
    "parsed_word = parser.parse(\"facile\")\n",
    "for form in parsed_word.forms:\n",
    "    for analysis in form.analyses.values():\n",
    "        print(get_entry(analysis))\n",
    "    "
   ]
  },
  {
   "cell_type": "code",
   "execution_count": null,
   "metadata": {},
   "outputs": [],
   "source": [
    "problems = []\n",
    "\n",
    "for word in vocab_list:\n",
    "    print(word)\n",
    "    parsed_word = parser.parse(word)\n",
    "    try:\n",
    "        for form in parsed_word.forms:\n",
    "            for analysis in form.analyses.values():\n",
    "                print(get_entry(analysis))\n",
    "    except:\n",
    "        problems.append(word)"
   ]
  },
  {
   "cell_type": "code",
   "execution_count": 47,
   "metadata": {},
   "outputs": [
    {
     "data": {
      "text/plain": [
       "['adest',\n",
       " 'nihil',\n",
       " 'deus',\n",
       " 'duxit',\n",
       " 'duxit',\n",
       " 'edit',\n",
       " 'erat',\n",
       " 'es',\n",
       " 'est',\n",
       " 'estis',\n",
       " 'inquit',\n",
       " 'intellexit',\n",
       " 'mane',\n",
       " 'duxit',\n",
       " 'nihil',\n",
       " 'nihil',\n",
       " 'non',\n",
       " 'num',\n",
       " 'sum',\n",
       " 'sumus',\n",
       " 'sunt']"
      ]
     },
     "execution_count": 47,
     "metadata": {},
     "output_type": "execute_result"
    }
   ],
   "source": [
    "problems"
   ]
  },
  {
   "attachments": {},
   "cell_type": "markdown",
   "metadata": {},
   "source": [
    "Orginize data and print it out for manual pruning"
   ]
  },
  {
   "cell_type": "code",
   "execution_count": null,
   "metadata": {},
   "outputs": [],
   "source": [
    "for word in result:\n",
    "    print(word.text)\n",
    "    for form in word.forms:\n",
    "        for ana in list(form.analyses.values()):\n",
    "            print(ana)"
   ]
  }
 ],
 "metadata": {
  "kernelspec": {
   "display_name": "Python 3",
   "language": "python",
   "name": "python3"
  },
  "language_info": {
   "codemirror_mode": {
    "name": "ipython",
    "version": 3
   },
   "file_extension": ".py",
   "mimetype": "text/x-python",
   "name": "python",
   "nbconvert_exporter": "python",
   "pygments_lexer": "ipython3",
   "version": "3.11.3"
  },
  "orig_nbformat": 4
 },
 "nbformat": 4,
 "nbformat_minor": 2
}
