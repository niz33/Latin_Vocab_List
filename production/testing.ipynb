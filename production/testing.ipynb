{
 "cells": [
  {
   "cell_type": "code",
   "execution_count": 89,
   "metadata": {},
   "outputs": [
    {
     "data": {
      "text/plain": [
       "'servus, servi  N (2nd) M'"
      ]
     },
     "execution_count": 89,
     "metadata": {},
     "output_type": "execute_result"
    }
   ],
   "source": [
    "from whitakers_words.parser import Parser\n",
    "from whitakers_words.finder import find_infl\n",
    "from whitakers_words.enums import WordType\n",
    "def make_ordinal(n: int) -> str:\n",
    "    if 11 <= (n % 100) <= 13:\n",
    "        suffix = \"th\"\n",
    "    else:\n",
    "        suffix = [\"th\", \"st\", \"nd\", \"rd\", \"th\"][min(n % 10, 4)]\n",
    "    return str(n) + suffix\n",
    "parser=Parser()\n",
    "\n",
    "lex=parser.parse(\"servum\").forms[0].analyses[34956].lexeme\n",
    "root=lex.roots\n",
    "category = int(lex.category[0])\n",
    "gender = lex.form[0]\n",
    "nom = find_infl(WordType.N, lex.category, [\"NOM\", \"S\", gender])\n",
    "gen = find_infl(WordType.N, lex.category, [\"GEN\", \"S\", gender])\n",
    "f\"{root[0]}{nom}, {root[1]}{gen}  N ({make_ordinal(category)}) {gender}\""
   ]
  },
  {
   "cell_type": "code",
   "execution_count": 86,
   "metadata": {},
   "outputs": [
    {
     "data": {
      "text/plain": [
       "{'text': 'servum', 'forms': [{'text': 'servum', 'analyses': {34956: {'lexeme': {'id': 34956, 'category': [2, 1], 'roots': ['serv', 'serv'], 'senses': ['slave', 'servant'], 'wordType': <WordType.N: 'Noun'>, 'form': ['M', 'P'], 'props': ['X', 'X', 'X', 'A', 'X'], 'parsed_props': {'Age': 'DEFAULT', 'Area': 'Default', 'Geography': 'Default', 'Frequency': 'Very Frequent', 'Source': 'General or unknown or too common to say'}}, 'root': '', 'inflections': [{'wordType': <WordType.N: 'Noun'>, 'category': [2, 0], 'stem': 'serv', 'affix': 'um', 'features': {'Case': <Case.ACC: 'Accusative'>, 'Number': <Number.S: 'Singular'>, 'Gender': <Gender.M: 'Masculine'>}, 'id': 145}], 'enclitic': None}}, 'enclitic': None}]}"
      ]
     },
     "execution_count": 86,
     "metadata": {},
     "output_type": "execute_result"
    }
   ],
   "source": [
    "parser.parse(\"servum\")"
   ]
  },
  {
   "cell_type": "code",
   "execution_count": 55,
   "metadata": {},
   "outputs": [
    {
     "name": "stdout",
     "output_type": "stream",
     "text": [
      "edo, edere, edi, essus [3] vt eat/consume/devour; eat away (fire/water/disease); destroy; spend money on food;\n"
     ]
    },
    {
     "data": {
      "text/plain": [
       "[WordMatch(match_stem='ess', match_ending='e', dl_stem1='ed', dl_stem2='ed', dl_stem3='ed', dl_stem4='ess', dl_entry=DictlineVerbEntry(conj='3', variant='1', verb_kind='TRANS', pos='V', age='X', freq='C', area='X', geog='X', src='O', senses='eat/consume/devour; eat away (fire/water/disease); destroy; spend money on food;'))]"
      ]
     },
     "execution_count": 55,
     "metadata": {},
     "output_type": "execute_result"
    }
   ],
   "source": [
    "import pywords.lookup as lookup\n",
    "\n",
    "for a in lookup.match_word(\"esse\"):\n",
    "    print(lookup.get_dictionary_string(a))\n",
    "\n",
    "lookup.match_word(\"esse\")"
   ]
  },
  {
   "cell_type": "code",
   "execution_count": 69,
   "metadata": {},
   "outputs": [
    {
     "data": {
      "text/plain": [
       "[{'etymology': '',\n",
       "  'definitions': [{'partOfSpeech': 'pronoun',\n",
       "    'text': ['quōque',\n",
       "     'masculine/feminine/neuter ablative singular of quisque'],\n",
       "    'relatedWords': [],\n",
       "    'examples': []}],\n",
       "  'pronunciations': {'text': ['(Classical) IPA: /ˈkʷoː.kʷe/, [ˈkʷoːkʷɛ]',\n",
       "    '(Ecclesiastical) IPA: /ˈkwo.kwe/, [ˈkwɔːkwe]',\n",
       "    '(Classical) IPA: /ˈkʷo.kʷe/, [ˈkʷɔkʷɛ]',\n",
       "    '(Ecclesiastical) IPA: /ˈkwo.kwe/, [ˈkwɔːkwe]',\n",
       "    'in sense 4 (Classical) IPA: /ˈkʷoː.kʷe/, [ˈkʷoːkʷɛ]',\n",
       "    '(Ecclesiastical) IPA: /ˈkwo.kwe/, [ˈkwɔːkwe]'],\n",
       "   'audio': []}},\n",
       " {'etymology': 'From a declined form of quis and -que (“each”). Compare with quōquam.\\n',\n",
       "  'definitions': [{'partOfSpeech': 'adverb',\n",
       "    'text': ['quoque (not comparable)',\n",
       "     'also, likewise, besides, too',\n",
       "     'not only',\n",
       "     'even, actually',\n",
       "     \"(figurative) what's more\"],\n",
       "    'relatedWords': [{'relationshipType': 'synonyms',\n",
       "      'words': ['(too): et, etiam']}],\n",
       "    'examples': ['A et B litterae sunt. C quoque littera est.A and B are letters. C is also a letter.',\n",
       "     'A and B are letters. C is also a letter.']}],\n",
       "  'pronunciations': {'text': ['(Classical) IPA: /ˈkʷoː.kʷe/, [ˈkʷoːkʷɛ]',\n",
       "    '(Ecclesiastical) IPA: /ˈkwo.kwe/, [ˈkwɔːkwe]',\n",
       "    '(Classical) IPA: /ˈkʷo.kʷe/, [ˈkʷɔkʷɛ]',\n",
       "    '(Ecclesiastical) IPA: /ˈkwo.kwe/, [ˈkwɔːkwe]',\n",
       "    'in sense 4 (Classical) IPA: /ˈkʷoː.kʷe/, [ˈkʷoːkʷɛ]',\n",
       "    '(Ecclesiastical) IPA: /ˈkwo.kwe/, [ˈkwɔːkwe]'],\n",
       "   'audio': []}}]"
      ]
     },
     "execution_count": 69,
     "metadata": {},
     "output_type": "execute_result"
    }
   ],
   "source": [
    "from wiktionaryparser import WiktionaryParser\n",
    "parser = WiktionaryParser()\n",
    "another_word = parser.fetch('quoque', 'latin')\n",
    "\n",
    "another_word"
   ]
  }
 ],
 "metadata": {
  "kernelspec": {
   "display_name": "Python 3",
   "language": "python",
   "name": "python3"
  },
  "language_info": {
   "codemirror_mode": {
    "name": "ipython",
    "version": 3
   },
   "file_extension": ".py",
   "mimetype": "text/x-python",
   "name": "python",
   "nbconvert_exporter": "python",
   "pygments_lexer": "ipython3",
   "version": "3.11.3"
  },
  "orig_nbformat": 4
 },
 "nbformat": 4,
 "nbformat_minor": 2
}
